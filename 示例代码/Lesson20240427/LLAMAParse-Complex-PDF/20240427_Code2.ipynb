{
  "nbformat": 4,
  "nbformat_minor": 0,
  "metadata": {
    "colab": {
      "provenance": [],
      "machine_shape": "hm",
      "gpuType": "T4"
    },
    "kernelspec": {
      "name": "python3",
      "display_name": "Python 3"
    },
    "language_info": {
      "name": "python"
    },
    "accelerator": "GPU"
  },
  "cells": [
    {
      "cell_type": "code",
      "execution_count": 1,
      "metadata": {
        "colab": {
          "base_uri": "https://localhost:8080/"
        },
        "id": "MXPszdT3Au-T",
        "outputId": "b08525a3-f4e8-4e21-d54d-31a7aef04c39"
      },
      "outputs": [
        {
          "output_type": "stream",
          "name": "stdout",
          "text": [
            "Writing requirements.txt\n"
          ]
        }
      ],
      "source": [
        "%%writefile requirements.txt\n",
        "langchain\n",
        "langchain-community\n",
        "llama-parse\n",
        "fastembed\n",
        "chromadb\n",
        "python-dotenv\n",
        "langchain-groq\n",
        "chainlit\n",
        "fastembed\n",
        "unstructured[md]\n"
      ]
    },
    {
      "cell_type": "code",
      "source": [
        "!pip install -r requirements.txt"
      ],
      "metadata": {
        "id": "y4tfnrssA6ed"
      },
      "execution_count": null,
      "outputs": []
    },
    {
      "cell_type": "code",
      "source": [
        "!wget \"https://github.com/sudarshan-koirala/RAG-chat-with-documents/blob/main/data/uber_10q_march_2022.pdf\""
      ],
      "metadata": {
        "id": "pg8565VAA81X"
      },
      "execution_count": null,
      "outputs": []
    },
    {
      "cell_type": "code",
      "source": [
        "from google.colab import userdata\n",
        "\n",
        "llamaparse_api_key = userdata.get('LLAMA_CLOUD_API_KEY')"
      ],
      "metadata": {
        "id": "m9dvVEGSA__y"
      },
      "execution_count": 4,
      "outputs": []
    },
    {
      "cell_type": "code",
      "source": [
        "##### LLAMAPARSE #####\n",
        "from llama_parse import LlamaParse\n",
        "\n",
        "from langchain.text_splitter import RecursiveCharacterTextSplitter\n",
        "from langchain_community.embeddings.fastembed import FastEmbedEmbeddings\n",
        "from langchain_community.vectorstores import Chroma\n",
        "from langchain_community.document_loaders import DirectoryLoader\n",
        "#\n",
        "import joblib\n",
        "import os\n",
        "import nest_asyncio  # noqa: E402\n",
        "nest_asyncio.apply()"
      ],
      "metadata": {
        "id": "3VP91Na9BD_p"
      },
      "execution_count": 5,
      "outputs": []
    },
    {
      "cell_type": "code",
      "source": [
        "!mkdir data"
      ],
      "metadata": {
        "id": "EIjWD2b4BFhV"
      },
      "execution_count": 6,
      "outputs": []
    },
    {
      "cell_type": "code",
      "source": [
        "def load_or_parse_data():\n",
        "    data_file = \"./data/parsed_data.pkl\"\n",
        "\n",
        "    if os.path.exists(data_file):\n",
        "        # Load the parsed data from the file\n",
        "        parsed_data = joblib.load(data_file)\n",
        "    else:\n",
        "        # Perform the parsing step and store the result in llama_parse_documents\n",
        "        parsingInstructionUber10k = \"\"\"The provided document is a quarterly report filed by Uber Technologies,\n",
        "        Inc. with the Securities and Exchange Commission (SEC).\n",
        "        This form provides detailed financial information about the company's performance for a specific quarter.\n",
        "        It includes unaudited financial statements, management discussion and analysis, and other relevant disclosures required by the SEC.\n",
        "        It contains many tables.\n",
        "        Try to be precise while answering the questions\"\"\"\n",
        "        parser = LlamaParse(api_key=llamaparse_api_key,\n",
        "                            result_type=\"markdown\",\n",
        "                            parsing_instruction=parsingInstructionUber10k,\n",
        "                            max_timeout=5000,)\n",
        "        llama_parse_documents = parser.load_data(\"./uber_10q_march_2022.pdf\")\n",
        "\n",
        "\n",
        "        # Save the parsed data to a file\n",
        "        print(\"Saving the parse results in .pkl format ..........\")\n",
        "        joblib.dump(llama_parse_documents, data_file)\n",
        "\n",
        "        # Set the parsed data to the variable\n",
        "        parsed_data = llama_parse_documents\n",
        "\n",
        "    return parsed_data"
      ],
      "metadata": {
        "id": "k8cb24rJBHWw"
      },
      "execution_count": 7,
      "outputs": []
    },
    {
      "cell_type": "code",
      "source": [
        "# Create vector database\n",
        "from langchain_community.document_loaders import UnstructuredMarkdownLoader\n",
        "def create_vector_database():\n",
        "    \"\"\"\n",
        "    Creates a vector database using document loaders and embeddings.\n",
        "\n",
        "    This function loads urls,\n",
        "    splits the loaded documents into chunks, transforms them into embeddings using OllamaEmbeddings,\n",
        "    and finally persists the embeddings into a Chroma vector database.\n",
        "\n",
        "    \"\"\"\n",
        "    # Call the function to either load or parse the data\n",
        "    llama_parse_documents = load_or_parse_data()\n",
        "    print(llama_parse_documents[0].text[:300])\n",
        "\n",
        "    with open('data/output.md', 'a') as f:  # Open the file in append mode ('a')\n",
        "        for doc in llama_parse_documents:\n",
        "            f.write(doc.text + '\\n')\n",
        "\n",
        "    markdown_path = \"/content/data/output.md\"\n",
        "    loader = UnstructuredMarkdownLoader(markdown_path)\n",
        "\n",
        "   #loader = DirectoryLoader('data/', glob=\"**/*.md\", show_progress=True)\n",
        "    documents = loader.load()\n",
        "    # Split loaded documents into chunks\n",
        "    text_splitter = RecursiveCharacterTextSplitter(chunk_size=2000, chunk_overlap=100)\n",
        "    docs = text_splitter.split_documents(documents)\n",
        "\n",
        "    #len(docs)\n",
        "    print(f\"length of documents loaded: {len(documents)}\")\n",
        "    print(f\"total number of document chunks generated :{len(docs)}\")\n",
        "    #docs[0]\n",
        "\n",
        "    # Initialize Embeddings\n",
        "    embed_model = FastEmbedEmbeddings(model_name=\"BAAI/bge-base-en-v1.5\")\n",
        "\n",
        "    # Create and persist a Chroma vector database from the chunked documents\n",
        "    vs = Chroma.from_documents(\n",
        "        documents=docs,\n",
        "        embedding=embed_model,\n",
        "        persist_directory=\"chroma_db_llamaparse1\",  # Local mode with in-memory storage only\n",
        "        collection_name=\"rag\"\n",
        "    )\n",
        "\n",
        "    #query it\n",
        "    #query = \"what is the agend of Financial Statements for 2022 ?\"\n",
        "    #found_doc = qdrant.similarity_search(query, k=3)\n",
        "    #print(found_doc[0][:100])\n",
        "    #print(qdrant.get())\n",
        "\n",
        "    print('Vector DB created successfully !')\n",
        "    return vs,embed_model"
      ],
      "metadata": {
        "id": "nnv5dDhhBSS-"
      },
      "execution_count": 8,
      "outputs": []
    },
    {
      "cell_type": "code",
      "source": [
        "vs,embed_model = create_vector_database()"
      ],
      "metadata": {
        "id": "D75HjdxLBUAV"
      },
      "execution_count": null,
      "outputs": []
    },
    {
      "cell_type": "code",
      "source": [
        "!pip install groq"
      ],
      "metadata": {
        "id": "wof9syRbBVwo"
      },
      "execution_count": null,
      "outputs": []
    },
    {
      "cell_type": "code",
      "source": [
        "# Importing Necessary Libraries\n",
        "import os\n",
        "from groq import Groq\n",
        "from langchain_groq import ChatGroq\n",
        "\n",
        "chat_model = ChatGroq(temperature=0,\n",
        "                      model_name=\"mixtral-8x7b-32768\",\n",
        "                      api_key=userdata.get(\"GROQ_API_KEY\"),)\n",
        "\n"
      ],
      "metadata": {
        "id": "4NG0lp5wBZOw"
      },
      "execution_count": null,
      "outputs": []
    },
    {
      "cell_type": "code",
      "source": [
        "vectorstore = Chroma(embedding_function=embed_model,\n",
        "                      persist_directory=\"chroma_db_llamaparse1\",\n",
        "                      collection_name=\"rag\")\n",
        "\n",
        "retriever=vectorstore.as_retriever(search_kwargs={'k': 3})"
      ],
      "metadata": {
        "id": "lvYc7WaLBani"
      },
      "execution_count": null,
      "outputs": []
    },
    {
      "cell_type": "code",
      "source": [
        "custom_prompt_template = \"\"\"Use the following pieces of information to answer the user's question.\n",
        "If you don't know the answer, just say that you don't know, don't try to make up an answer.\n",
        "\n",
        "Context: {context}\n",
        "Question: {question}\n",
        "\n",
        "Only return the helpful answer below and nothing else.\n",
        "Helpful answer:\n",
        "\"\"\""
      ],
      "metadata": {
        "id": "IEcl5JJLBcP-"
      },
      "execution_count": null,
      "outputs": []
    },
    {
      "cell_type": "code",
      "source": [
        "from langchain.prompts import PromptTemplate\n",
        "def set_custom_prompt():\n",
        "    \"\"\"\n",
        "    Prompt template for QA retrieval for each vectorstore\n",
        "    \"\"\"\n",
        "    prompt = PromptTemplate(template=custom_prompt_template,\n",
        "                            input_variables=['context', 'question'])\n",
        "    return prompt"
      ],
      "metadata": {
        "id": "QkOGOSNHBivR"
      },
      "execution_count": null,
      "outputs": []
    },
    {
      "cell_type": "code",
      "source": [
        "prompt = set_custom_prompt()\n",
        "prompt"
      ],
      "metadata": {
        "id": "ql9A620tBkCa"
      },
      "execution_count": null,
      "outputs": []
    },
    {
      "cell_type": "code",
      "source": [
        "from langchain.chains import RetrievalQA\n",
        "qa = RetrievalQA.from_chain_type(llm=chat_model,\n",
        "                               chain_type=\"stuff\",\n",
        "                               retriever=retriever,\n",
        "                               return_source_documents=True,\n",
        "                               chain_type_kwargs={\"prompt\": prompt})"
      ],
      "metadata": {
        "id": "0LZF1h1WBlaa"
      },
      "execution_count": null,
      "outputs": []
    },
    {
      "cell_type": "code",
      "source": [
        "response = qa.invoke({\"query\": \"what is the Balance of UBER TECHNOLOGIES, INC.as of December 31, 2021?\"})"
      ],
      "metadata": {
        "id": "djeDpfZ7Bn7D"
      },
      "execution_count": null,
      "outputs": []
    },
    {
      "cell_type": "code",
      "source": [
        "response"
      ],
      "metadata": {
        "id": "zJh9W8BzBoNh"
      },
      "execution_count": null,
      "outputs": []
    },
    {
      "cell_type": "code",
      "source": [
        "response['result']"
      ],
      "metadata": {
        "id": "fq_9YJDSBpiu"
      },
      "execution_count": null,
      "outputs": []
    },
    {
      "cell_type": "code",
      "source": [
        "response = qa.invoke({\"query\": \"What is the Cash flows from operating activities associated with bad expense specified in the document ?\"})\n",
        "response['result']"
      ],
      "metadata": {
        "id": "YdkAPC9yBqvC"
      },
      "execution_count": null,
      "outputs": []
    },
    {
      "cell_type": "code",
      "source": [
        "response = qa.invoke({\"query\": \"what is Loss (income) from equity method investments, net ?\"})"
      ],
      "metadata": {
        "id": "_feO_BVUBsUW"
      },
      "execution_count": null,
      "outputs": []
    },
    {
      "cell_type": "code",
      "source": [
        "response[\"result\"]"
      ],
      "metadata": {
        "id": "pmxd7A6FBtgH"
      },
      "execution_count": null,
      "outputs": []
    },
    {
      "cell_type": "code",
      "source": [
        "response[\"source_documents\"][0]"
      ],
      "metadata": {
        "id": "qnyNYiXAButM"
      },
      "execution_count": null,
      "outputs": []
    },
    {
      "cell_type": "code",
      "source": [
        "response = qa.invoke({\"query\": \"What is the Total cash and cash equivalents, and restricted cash and cash equivalents for reconciliation ?\"})\n",
        "response['result']"
      ],
      "metadata": {
        "id": "rTzKk0yTBwGv"
      },
      "execution_count": null,
      "outputs": []
    },
    {
      "cell_type": "code",
      "source": [
        "response[\"source_documents\"][0]"
      ],
      "metadata": {
        "id": "bbnilVNNBxwh"
      },
      "execution_count": null,
      "outputs": []
    },
    {
      "cell_type": "code",
      "source": [
        "response = qa.invoke({\"query\":\"Based on the CONDENSED CONSOLIDATED STATEMENTS OF REDEEMABLE NON-CONTROLLING INTERESTS AND EQUITY what is the Balance as of March 31, 2021?\"})\n",
        "print(response['result'])"
      ],
      "metadata": {
        "id": "8dfAO7c_B0Zu"
      },
      "execution_count": null,
      "outputs": []
    },
    {
      "cell_type": "code",
      "source": [
        "response[\"source_documents\"][0].page_content"
      ],
      "metadata": {
        "id": "2qhj3xwsB2JA"
      },
      "execution_count": null,
      "outputs": []
    },
    {
      "cell_type": "code",
      "source": [
        "response = qa.invoke({\"query\":\"Based on the condensed consolidated statements of comprehensive Income(loss) what is the  Comprehensive income (loss) attributable to Uber Technologies, Inc.for the three months ended March 31, 2022\"})\n",
        "response['result']"
      ],
      "metadata": {
        "id": "DaCMQIehB3mc"
      },
      "execution_count": null,
      "outputs": []
    },
    {
      "cell_type": "code",
      "source": [
        "response = qa.invoke({\"query\":\"Based on the condensed consolidated statements of comprehensive Income(loss) what is the  Comprehensive income (loss) attributable to Uber Technologies?\"})\n",
        "response['result']"
      ],
      "metadata": {
        "id": "OmK8c6vaB57W"
      },
      "execution_count": null,
      "outputs": []
    },
    {
      "cell_type": "code",
      "source": [
        "response = qa.invoke({\"query\":\"Based on the condensed consolidated statements of comprehensive Income(loss) what is the Net loss including non-controlling interests\"})"
      ],
      "metadata": {
        "id": "4DRYoUpAB7T_"
      },
      "execution_count": null,
      "outputs": []
    },
    {
      "cell_type": "code",
      "source": [
        "response['result']"
      ],
      "metadata": {
        "id": "CZhfhvXzB8ip"
      },
      "execution_count": null,
      "outputs": []
    },
    {
      "cell_type": "code",
      "source": [
        "response = qa.invoke({\"query\":\"what is the Net cash used in operating activities for Mrach 31,2021? \"})\n",
        "response['result']"
      ],
      "metadata": {
        "id": "4sUaNi6iB94y"
      },
      "execution_count": null,
      "outputs": []
    },
    {
      "cell_type": "code",
      "source": [
        "response[\"source_documents\"][0].page_content"
      ],
      "metadata": {
        "id": "idY_0aiBB_hx"
      },
      "execution_count": null,
      "outputs": []
    },
    {
      "cell_type": "code",
      "source": [
        "query = \"Based on the CONDENSED CONSOLIDATED STATEMENTS OF CASH FLOWS What is the value of Purchases of property and equipment ?\"\n",
        "response = qa.invoke({\"query\":query})\n",
        "response['result']"
      ],
      "metadata": {
        "id": "FOAdXD52CCEO"
      },
      "execution_count": null,
      "outputs": []
    },
    {
      "cell_type": "code",
      "source": [
        "response[\"source_documents\"][0].page_content"
      ],
      "metadata": {
        "id": "MfvlDCQ_CCaZ"
      },
      "execution_count": null,
      "outputs": []
    },
    {
      "cell_type": "code",
      "source": [
        "query = \"Based on the CONDENSED CONSOLIDATED STATEMENTS OF CASH FLOWS what is the Purchases of property and equipment for the year 2022?\"\n",
        "response = qa.invoke({\"query\":query})\n",
        "response['result']"
      ],
      "metadata": {
        "id": "rtbU_R7FCDog"
      },
      "execution_count": null,
      "outputs": []
    }
  ]
}