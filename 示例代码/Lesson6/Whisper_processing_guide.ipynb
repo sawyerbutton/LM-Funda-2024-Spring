{
  "nbformat": 4,
  "nbformat_minor": 0,
  "metadata": {
    "colab": {
      "provenance": []
    },
    "kernelspec": {
      "name": "python3",
      "display_name": "Python 3"
    },
    "language_info": {
      "name": "python"
    }
  },
  "cells": [
    {
      "cell_type": "code",
      "execution_count": 4,
      "metadata": {
        "colab": {
          "base_uri": "https://localhost:8080/"
        },
        "id": "dP70MpFhWahb",
        "outputId": "83526d38-ed46-4f4b-a65e-0087c41098ff"
      },
      "outputs": [
        {
          "output_type": "stream",
          "name": "stdout",
          "text": [
            "Requirement already satisfied: openai in /usr/local/lib/python3.10/dist-packages (1.12.0)\n",
            "Requirement already satisfied: anyio<5,>=3.5.0 in /usr/local/lib/python3.10/dist-packages (from openai) (3.7.1)\n",
            "Requirement already satisfied: distro<2,>=1.7.0 in /usr/lib/python3/dist-packages (from openai) (1.7.0)\n",
            "Requirement already satisfied: httpx<1,>=0.23.0 in /usr/local/lib/python3.10/dist-packages (from openai) (0.27.0)\n",
            "Requirement already satisfied: pydantic<3,>=1.9.0 in /usr/local/lib/python3.10/dist-packages (from openai) (2.6.1)\n",
            "Requirement already satisfied: sniffio in /usr/local/lib/python3.10/dist-packages (from openai) (1.3.0)\n",
            "Requirement already satisfied: tqdm>4 in /usr/local/lib/python3.10/dist-packages (from openai) (4.66.2)\n",
            "Requirement already satisfied: typing-extensions<5,>=4.7 in /usr/local/lib/python3.10/dist-packages (from openai) (4.9.0)\n",
            "Requirement already satisfied: idna>=2.8 in /usr/local/lib/python3.10/dist-packages (from anyio<5,>=3.5.0->openai) (3.6)\n",
            "Requirement already satisfied: exceptiongroup in /usr/local/lib/python3.10/dist-packages (from anyio<5,>=3.5.0->openai) (1.2.0)\n",
            "Requirement already satisfied: certifi in /usr/local/lib/python3.10/dist-packages (from httpx<1,>=0.23.0->openai) (2024.2.2)\n",
            "Requirement already satisfied: httpcore==1.* in /usr/local/lib/python3.10/dist-packages (from httpx<1,>=0.23.0->openai) (1.0.4)\n",
            "Requirement already satisfied: h11<0.15,>=0.13 in /usr/local/lib/python3.10/dist-packages (from httpcore==1.*->httpx<1,>=0.23.0->openai) (0.14.0)\n",
            "Requirement already satisfied: annotated-types>=0.4.0 in /usr/local/lib/python3.10/dist-packages (from pydantic<3,>=1.9.0->openai) (0.6.0)\n",
            "Requirement already satisfied: pydantic-core==2.16.2 in /usr/local/lib/python3.10/dist-packages (from pydantic<3,>=1.9.0->openai) (2.16.2)\n",
            "Collecting pydub\n",
            "  Downloading pydub-0.25.1-py2.py3-none-any.whl (32 kB)\n",
            "Installing collected packages: pydub\n",
            "Successfully installed pydub-0.25.1\n"
          ]
        }
      ],
      "source": [
        "!pip install openai\n",
        "!pip install pydub"
      ]
    },
    {
      "cell_type": "code",
      "source": [
        "from openai import OpenAI\n",
        "import os\n",
        "import urllib\n",
        "from IPython.display import Audio\n",
        "from pathlib import Path\n",
        "from pydub import AudioSegment\n",
        "import ssl\n",
        "\n",
        "from google.colab import userdata\n",
        "key = userdata.get('OpenAI-Key')\n",
        "client = OpenAI(api_key=os.environ.get(\"OPENAI_API_KEY\", key))"
      ],
      "metadata": {
        "id": "ekSFYNH-dNxs"
      },
      "execution_count": 5,
      "outputs": []
    },
    {
      "cell_type": "code",
      "source": [
        "# set download paths\n",
        "earnings_call_remote_filepath = \"https://cdn.openai.com/API/examples/data/EarningsCall.wav\"\n",
        "\n",
        "# set local save locations\n",
        "earnings_call_filepath = \"EarningsCall.wav\"\n",
        "\n",
        "# download example audio files and save locally\n",
        "ssl._create_default_https_context = ssl._create_unverified_context\n",
        "urllib.request.urlretrieve(earnings_call_remote_filepath, earnings_call_filepath)"
      ],
      "metadata": {
        "colab": {
          "base_uri": "https://localhost:8080/"
        },
        "id": "nvsx1S2wdbY9",
        "outputId": "dab8851c-0edc-4e73-a63a-904b64e79013"
      },
      "execution_count": 6,
      "outputs": [
        {
          "output_type": "execute_result",
          "data": {
            "text/plain": [
              "('EarningsCall.wav', <http.client.HTTPMessage at 0x7dc9986f70d0>)"
            ]
          },
          "metadata": {},
          "execution_count": 6
        }
      ]
    },
    {
      "cell_type": "code",
      "source": [
        "# Function to detect leading silence\n",
        "# Returns the number of milliseconds until the first sound (chunk averaging more than X decibels)\n",
        "def milliseconds_until_sound(sound, silence_threshold_in_decibels=-20.0, chunk_size=10):\n",
        "    trim_ms = 0  # ms\n",
        "\n",
        "    assert chunk_size > 0  # to avoid infinite loop\n",
        "    while sound[trim_ms:trim_ms+chunk_size].dBFS < silence_threshold_in_decibels and trim_ms < len(sound):\n",
        "        trim_ms += chunk_size\n",
        "\n",
        "    return trim_ms"
      ],
      "metadata": {
        "id": "qBS1pqzfdcSz"
      },
      "execution_count": 7,
      "outputs": []
    },
    {
      "cell_type": "code",
      "source": [
        "def trim_start(filepath):\n",
        "    path = Path(filepath)\n",
        "    directory = path.parent\n",
        "    filename = path.name\n",
        "    audio = AudioSegment.from_file(filepath, format=\"wav\")\n",
        "    start_trim = milliseconds_until_sound(audio)\n",
        "    trimmed = audio[start_trim:]\n",
        "    new_filename = directory / f\"trimmed_{filename}\"\n",
        "    trimmed.export(new_filename, format=\"wav\")\n",
        "    return trimmed, new_filename"
      ],
      "metadata": {
        "id": "0hIOI5YseTNg"
      },
      "execution_count": 8,
      "outputs": []
    },
    {
      "cell_type": "code",
      "source": [
        "def transcribe_audio(file,output_dir):\n",
        "    audio_path = os.path.join(output_dir, file)\n",
        "    with open(audio_path, 'rb') as audio_data:\n",
        "        transcription = client.audio.transcriptions.create(\n",
        "            model=\"whisper-1\", file=audio_data)\n",
        "        return transcription.text"
      ],
      "metadata": {
        "id": "7Fd5gvnxeVvw"
      },
      "execution_count": 9,
      "outputs": []
    },
    {
      "cell_type": "code",
      "source": [
        "# Define function to remove non-ascii characters\n",
        "def remove_non_ascii(text):\n",
        "    return ''.join(i for i in text if ord(i)<128)"
      ],
      "metadata": {
        "id": "59HZSPGIeXe6"
      },
      "execution_count": 10,
      "outputs": []
    },
    {
      "cell_type": "code",
      "source": [
        "# Define function to add punctuation\n",
        "def punctuation_assistant(ascii_transcript):\n",
        "\n",
        "    system_prompt = \"\"\"You are a helpful assistant that adds punctuation to text.\n",
        "      Preserve the original words and only insert necessary punctuation such as periods,\n",
        "     commas, capialization, symbols like dollar sings or percentage signs, and formatting.\n",
        "     Use only the context provided. If there is no context provided say, 'No context provided'\\n\"\"\"\n",
        "    response = client.chat.completions.create(\n",
        "        model=\"gpt-3.5-turbo\",\n",
        "        temperature=0,\n",
        "        messages=[\n",
        "            {\n",
        "                \"role\": \"system\",\n",
        "                \"content\": system_prompt\n",
        "            },\n",
        "            {\n",
        "                \"role\": \"user\",\n",
        "                \"content\": ascii_transcript\n",
        "            }\n",
        "        ]\n",
        "    )\n",
        "    return response"
      ],
      "metadata": {
        "id": "TmeaQdogedzk"
      },
      "execution_count": 11,
      "outputs": []
    },
    {
      "cell_type": "code",
      "source": [
        "# Define function to fix product mispellings\n",
        "def product_assistant(ascii_transcript):\n",
        "    system_prompt = \"\"\"You are an intelligent assistant specializing in financial products;\n",
        "    your task is to process transcripts of earnings calls, ensuring that all references to\n",
        "     financial products and common financial terms are in the correct format. For each\n",
        "     financial product or common term that is typically abbreviated as an acronym, the full term\n",
        "    should be spelled out followed by the acronym in parentheses. For example, '401k' should be\n",
        "     transformed to '401(k) retirement savings plan', 'HSA' should be transformed to 'Health Savings Account (HSA)'\n",
        "    , 'ROA' should be transformed to 'Return on Assets (ROA)', 'VaR' should be transformed to 'Value at Risk (VaR)'\n",
        ", and 'PB' should be transformed to 'Price to Book (PB) ratio'. Similarly, transform spoken numbers representing\n",
        "financial products into their numeric representations, followed by the full name of the product in parentheses.\n",
        "For instance, 'five two nine' to '529 (Education Savings Plan)' and 'four zero one k' to '401(k) (Retirement Savings Plan)'.\n",
        " However, be aware that some acronyms can have different meanings based on the context (e.g., 'LTV' can stand for\n",
        "'Loan to Value' or 'Lifetime Value'). You will need to discern from the context which term is being referred to\n",
        "and apply the appropriate transformation. In cases where numerical figures or metrics are spelled out but do not\n",
        "represent specific financial products (like 'twenty three percent'), these should be left as is. Your role is to\n",
        " analyze and adjust financial product terminology in the text. Once you've done that, produce the adjusted\n",
        " transcript and a list of the words you've changed\"\"\"\n",
        "    response = client.chat.completions.create(\n",
        "        model=\"gpt-4\",\n",
        "        temperature=0,\n",
        "        messages=[\n",
        "            {\n",
        "                \"role\": \"system\",\n",
        "                \"content\": system_prompt\n",
        "            },\n",
        "            {\n",
        "                \"role\": \"user\",\n",
        "                \"content\": ascii_transcript\n",
        "            }\n",
        "        ]\n",
        "    )\n",
        "    return response"
      ],
      "metadata": {
        "id": "DiveGkRIejPY"
      },
      "execution_count": 12,
      "outputs": []
    },
    {
      "cell_type": "code",
      "source": [
        "# Trim the start of the original audio file\n",
        "trimmed_audio = trim_start(earnings_call_filepath)"
      ],
      "metadata": {
        "id": "OGnRN5Hseyu4"
      },
      "execution_count": 13,
      "outputs": []
    },
    {
      "cell_type": "code",
      "source": [
        "trimmed_audio, trimmed_filename = trim_start(earnings_call_filepath)"
      ],
      "metadata": {
        "id": "vzt0dwHse2Ax"
      },
      "execution_count": 14,
      "outputs": []
    },
    {
      "cell_type": "code",
      "source": [
        "# Segment audio\n",
        "trimmed_audio = AudioSegment.from_wav(trimmed_filename)  # Load the trimmed audio file\n",
        "\n",
        "one_minute = 1 * 60 * 1000  # Duration for each segment (in milliseconds)\n",
        "\n",
        "start_time = 0  # Start time for the first segment\n",
        "\n",
        "i = 0  # Index for naming the segmented files\n",
        "\n",
        "output_dir_trimmed = \"trimmed_earnings_directory\"  # Output directory for the segmented files\n",
        "\n",
        "if not os.path.isdir(output_dir_trimmed):  # Create the output directory if it does not exist\n",
        "    os.makedirs(output_dir_trimmed)\n",
        "\n",
        "while start_time < len(trimmed_audio):  # Loop over the trimmed audio file\n",
        "    segment = trimmed_audio[start_time:start_time + one_minute]  # Extract a segment\n",
        "    segment.export(os.path.join(output_dir_trimmed, f\"trimmed_{i:02d}.wav\"), format=\"wav\")  # Save the segment\n",
        "    start_time += one_minute  # Update the start time for the next segment\n",
        "    i += 1  # Increment the index for naming the next file"
      ],
      "metadata": {
        "id": "Lk7d7Gvme5Dk"
      },
      "execution_count": 15,
      "outputs": []
    },
    {
      "cell_type": "code",
      "source": [
        "# Get list of trimmed and segmented audio files and sort them numerically\n",
        "audio_files = sorted(\n",
        "    (f for f in os.listdir(output_dir_trimmed) if f.endswith(\".wav\")),\n",
        "    key=lambda f: int(''.join(filter(str.isdigit, f)))\n",
        ")"
      ],
      "metadata": {
        "id": "ouDjywBve8Fj"
      },
      "execution_count": 16,
      "outputs": []
    },
    {
      "cell_type": "code",
      "source": [
        "# Use a loop to apply the transcribe function to all audio files\n",
        "transcriptions = [transcribe_audio(file, output_dir_trimmed) for file in audio_files]"
      ],
      "metadata": {
        "id": "TUpKUV2ke_gn"
      },
      "execution_count": 17,
      "outputs": []
    },
    {
      "cell_type": "code",
      "source": [
        "# Concatenate the transcriptions\n",
        "full_transcript = ' '.join(transcriptions)"
      ],
      "metadata": {
        "id": "f5IUwxVBfB2O"
      },
      "execution_count": 18,
      "outputs": []
    },
    {
      "cell_type": "code",
      "source": [
        "print(full_transcript)"
      ],
      "metadata": {
        "colab": {
          "base_uri": "https://localhost:8080/"
        },
        "id": "A_A1CUa_fEk3",
        "outputId": "4e390258-f3d6-4c6b-9e3c-6de42ef5478f"
      },
      "execution_count": 19,
      "outputs": [
        {
          "output_type": "stream",
          "name": "stdout",
          "text": [
            "Good afternoon, everyone. And welcome to FinTech Plus Sync's second quarter 2023 earnings call. I'm John Doe, CEO of FinTech Plus. We've had a stellar Q2 with a revenue of 125 million, a 25% increase year over year. Our gross profit margin stands at a solid 58%, due in part to cost efficiencies gained from our scalable business model. Our EBITDA has surged to 37.5 million, translating to a remarkable 30% EBITDA margin. Our net income for the quarter rose to 16 million, which is a noteworthy increase from 10 million in Q2 2022. Our total addressable market has grown substantially thanks to the expansion of our high yield savings product line and the new RoboAdvisor platform. We've been diversifying our asset-backed securities portfolio, investing heavily in collateralized. debt obligations, and residential mortgage-backed securities. We've also invested $25 million in AAA rated corporate bonds, enhancing our risk adjusted returns. As for our balance sheet, total assets reached $1.5 billion with total liabilities at $900 million, leaving us with a solid equity base of $600 million. Our debt to equity ratio stands at 1.5, a healthy figure considering our expansionary phase. We continue to see substantial organic user growth, with customer acquisition cost dropping by 15% and lifetime value growing by 25%. Our LTVCAC ratio is at an impressive 3.5%. In terms of risk management, we have a value-at-risk model in place with a 99%... confidence level indicating that our maximum loss will not exceed 5 million in the next trading day. We've adopted a conservative approach to managing our leverage and have a healthy tier one capital ratio of 12.5%. Our forecast for the coming quarter is positive. We expect revenue to be around 135 million and 8% quarter over quarter growth driven primarily by our cutting edge blockchain solutions and AI driven predictive analytics. We're also excited about the upcoming IPO of our FinTech subsidiary, Pay Plus, which we expect to raise 200 million. Significantly bolstering our liquidity and paving the way for aggressive growth strategies. We thank our shareholders for their continued faith in us and we look forward to an even more successful Q3. Thank you so much.\n"
          ]
        }
      ]
    },
    {
      "cell_type": "code",
      "source": [
        "# Remove non-ascii characters from the transcript\n",
        "ascii_transcript = remove_non_ascii(full_transcript)"
      ],
      "metadata": {
        "id": "kjFntLyPfFh7"
      },
      "execution_count": 20,
      "outputs": []
    },
    {
      "cell_type": "code",
      "source": [
        "\n",
        "print(ascii_transcript)"
      ],
      "metadata": {
        "colab": {
          "base_uri": "https://localhost:8080/"
        },
        "id": "5m5mZTL0fHTz",
        "outputId": "d72c78e7-e6e8-4094-9f88-7df65b7665fc"
      },
      "execution_count": 21,
      "outputs": [
        {
          "output_type": "stream",
          "name": "stdout",
          "text": [
            "Good afternoon, everyone. And welcome to FinTech Plus Sync's second quarter 2023 earnings call. I'm John Doe, CEO of FinTech Plus. We've had a stellar Q2 with a revenue of 125 million, a 25% increase year over year. Our gross profit margin stands at a solid 58%, due in part to cost efficiencies gained from our scalable business model. Our EBITDA has surged to 37.5 million, translating to a remarkable 30% EBITDA margin. Our net income for the quarter rose to 16 million, which is a noteworthy increase from 10 million in Q2 2022. Our total addressable market has grown substantially thanks to the expansion of our high yield savings product line and the new RoboAdvisor platform. We've been diversifying our asset-backed securities portfolio, investing heavily in collateralized. debt obligations, and residential mortgage-backed securities. We've also invested $25 million in AAA rated corporate bonds, enhancing our risk adjusted returns. As for our balance sheet, total assets reached $1.5 billion with total liabilities at $900 million, leaving us with a solid equity base of $600 million. Our debt to equity ratio stands at 1.5, a healthy figure considering our expansionary phase. We continue to see substantial organic user growth, with customer acquisition cost dropping by 15% and lifetime value growing by 25%. Our LTVCAC ratio is at an impressive 3.5%. In terms of risk management, we have a value-at-risk model in place with a 99%... confidence level indicating that our maximum loss will not exceed 5 million in the next trading day. We've adopted a conservative approach to managing our leverage and have a healthy tier one capital ratio of 12.5%. Our forecast for the coming quarter is positive. We expect revenue to be around 135 million and 8% quarter over quarter growth driven primarily by our cutting edge blockchain solutions and AI driven predictive analytics. We're also excited about the upcoming IPO of our FinTech subsidiary, Pay Plus, which we expect to raise 200 million. Significantly bolstering our liquidity and paving the way for aggressive growth strategies. We thank our shareholders for their continued faith in us and we look forward to an even more successful Q3. Thank you so much.\n"
          ]
        }
      ]
    },
    {
      "cell_type": "code",
      "source": [
        "# Use punctuation assistant function\n",
        "response = punctuation_assistant(ascii_transcript)"
      ],
      "metadata": {
        "id": "c2XFW-VGfIn-"
      },
      "execution_count": 22,
      "outputs": []
    },
    {
      "cell_type": "code",
      "source": [
        "# Extract the punctuated transcript from the model's response\n",
        "punctuated_transcript = response.choices[0].message.content"
      ],
      "metadata": {
        "id": "prOqzj3ffKTu"
      },
      "execution_count": 23,
      "outputs": []
    },
    {
      "cell_type": "code",
      "source": [
        "print(punctuated_transcript)"
      ],
      "metadata": {
        "colab": {
          "base_uri": "https://localhost:8080/"
        },
        "id": "DLbooVITfMK0",
        "outputId": "087b5ac5-56ba-46c3-d063-2b873d155361"
      },
      "execution_count": 24,
      "outputs": [
        {
          "output_type": "stream",
          "name": "stdout",
          "text": [
            "Good afternoon, everyone, and welcome to FinTech Plus Sync's second quarter 2023 earnings call. I'm John Doe, CEO of FinTech Plus. We've had a stellar Q2 with a revenue of 125 million, a 25% increase year over year. Our gross profit margin stands at a solid 58%, due in part to cost efficiencies gained from our scalable business model. Our EBITDA has surged to 37.5 million, translating to a remarkable 30% EBITDA margin. Our net income for the quarter rose to 16 million, which is a noteworthy increase from 10 million in Q2 2022. Our total addressable market has grown substantially thanks to the expansion of our high yield savings product line and the new RoboAdvisor platform. We've been diversifying our asset-backed securities portfolio, investing heavily in collateralized debt obligations, and residential mortgage-backed securities. We've also invested $25 million in AAA rated corporate bonds, enhancing our risk-adjusted returns. As for our balance sheet, total assets reached $1.5 billion with total liabilities at $900 million, leaving us with a solid equity base of $600 million. Our debt-to-equity ratio stands at 1.5, a healthy figure considering our expansionary phase. We continue to see substantial organic user growth, with customer acquisition cost dropping by 15% and lifetime value growing by 25%. Our LTVCAC ratio is at an impressive 3.5%. In terms of risk management, we have a value-at-risk model in place with a 99% confidence level indicating that our maximum loss will not exceed 5 million in the next trading day. We've adopted a conservative approach to managing our leverage and have a healthy tier one capital ratio of 12.5%. Our forecast for the coming quarter is positive. We expect revenue to be around 135 million and 8% quarter over quarter growth driven primarily by our cutting-edge blockchain solutions and AI-driven predictive analytics. We're also excited about the upcoming IPO of our FinTech subsidiary, Pay Plus, which we expect to raise 200 million, significantly bolstering our liquidity and paving the way for aggressive growth strategies. We thank our shareholders for their continued faith in us, and we look forward to an even more successful Q3. Thank you so much.\n"
          ]
        }
      ]
    },
    {
      "cell_type": "code",
      "source": [
        "# Use product assistant function\n",
        "response = product_assistant(punctuated_transcript)"
      ],
      "metadata": {
        "id": "gDXx2uFgfOcE"
      },
      "execution_count": 25,
      "outputs": []
    },
    {
      "cell_type": "code",
      "source": [
        "# Extract the final transcript from the model's response\n",
        "final_transcript = response.choices[0].message.content"
      ],
      "metadata": {
        "id": "gC2f0PJGfPk7"
      },
      "execution_count": 26,
      "outputs": []
    },
    {
      "cell_type": "code",
      "source": [
        "print(final_transcript)"
      ],
      "metadata": {
        "colab": {
          "base_uri": "https://localhost:8080/"
        },
        "id": "CPnsDbxzfQ8j",
        "outputId": "a321937d-6557-4c33-d699-e5a7ecea76dd"
      },
      "execution_count": 27,
      "outputs": [
        {
          "output_type": "stream",
          "name": "stdout",
          "text": [
            "Good afternoon, everyone, and welcome to FinTech Plus Sync's second quarter 2023 earnings call. I'm John Doe, CEO of FinTech Plus. We've had a stellar second quarter (Q2) with a revenue of 125 million, a 25% increase year over year. Our gross profit margin stands at a solid 58%, due in part to cost efficiencies gained from our scalable business model. Our Earnings Before Interest, Taxes, Depreciation, and Amortization (EBITDA) has surged to 37.5 million, translating to a remarkable 30% EBITDA margin. Our net income for the quarter rose to 16 million, which is a noteworthy increase from 10 million in Q2 2022. Our total addressable market has grown substantially thanks to the expansion of our high yield savings product line and the new RoboAdvisor platform. We've been diversifying our asset-backed securities portfolio, investing heavily in Collateralized Debt Obligations (CDOs), and Residential Mortgage-Backed Securities (RMBS). We've also invested $25 million in AAA rated corporate bonds, enhancing our risk-adjusted returns. As for our balance sheet, total assets reached $1.5 billion with total liabilities at $900 million, leaving us with a solid equity base of $600 million. Our Debt-to-Equity (D/E) ratio stands at 1.5, a healthy figure considering our expansionary phase. We continue to see substantial organic user growth, with Customer Acquisition Cost (CAC) dropping by 15% and Lifetime Value (LTV) growing by 25%. Our LTV to CAC (LTVCAC) ratio is at an impressive 3.5%. In terms of risk management, we have a Value at Risk (VaR) model in place with a 99% confidence level indicating that our maximum loss will not exceed 5 million in the next trading day. We've adopted a conservative approach to managing our leverage and have a healthy Tier 1 Capital ratio of 12.5%. Our forecast for the coming quarter is positive. We expect revenue to be around 135 million and 8% quarter over quarter growth driven primarily by our cutting-edge blockchain solutions and AI-driven predictive analytics. We're also excited about the upcoming Initial Public Offering (IPO) of our FinTech subsidiary, Pay Plus, which we expect to raise 200 million, significantly bolstering our liquidity and paving the way for aggressive growth strategies. We thank our shareholders for their continued faith in us, and we look forward to an even more successful Q3. Thank you so much.\n",
            "\n",
            "Words Changed:\n",
            "1. Q2 to second quarter (Q2)\n",
            "2. EBITDA to Earnings Before Interest, Taxes, Depreciation, and Amortization (EBITDA)\n",
            "3. CDOs to Collateralized Debt Obligations (CDOs)\n",
            "4. RMBS to Residential Mortgage-Backed Securities (RMBS)\n",
            "5. D/E to Debt-to-Equity (D/E)\n",
            "6. CAC to Customer Acquisition Cost (CAC)\n",
            "7. LTV to Lifetime Value (LTV)\n",
            "8. LTVCAC to LTV to CAC (LTVCAC)\n",
            "9. VaR to Value at Risk (VaR)\n",
            "10. IPO to Initial Public Offering (IPO)\n"
          ]
        }
      ]
    },
    {
      "cell_type": "code",
      "source": [],
      "metadata": {
        "id": "1n9UroAxfSNy"
      },
      "execution_count": null,
      "outputs": []
    }
  ]
}